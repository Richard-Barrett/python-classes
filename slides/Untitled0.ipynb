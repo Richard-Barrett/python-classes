{
 "metadata": {
  "name": "Untitled0"
 },
 "nbformat": 3,
 "nbformat_minor": 0,
 "worksheets": [
  {
   "cells": [
    {
     "cell_type": "code",
     "collapsed": false,
     "input": [
      "def xfind(x, y):\n",
      "    ly = len(y)\n",
      "    for i in range(len(x) - ly + 1):\n",
      "        if x[i:i + ly] == y:\n",
      "            return i\n",
      "    return -1\n",
      "\n",
      "def pres(s1, s2):\n",
      "    print \"find({!r}, {!r}) == {}\".format(s1, s2, xfind(s1, s2))\n",
      "\n",
      "pres(\"\", \"\")\n",
      "pres(\"\", \"1\")\n",
      "pres(\"1\", \"\")\n",
      "pres(\"12\", \"12\")\n",
      "pres(\"121\", \"1\")\n",
      "pres(\"121\", \"121111\")\n",
      "pres(\"121\", \"111111\")"
     ],
     "language": "python",
     "metadata": {},
     "outputs": [
      {
       "output_type": "stream",
       "stream": "stdout",
       "text": [
        "find('', '') == 0\n",
        "find('', '') == -1\n",
        "find('1', '1') == 0\n",
        "find('12', '12') == 0\n",
        "find('121', '121') == 0\n",
        "find('121', '121') == -1\n",
        "find('121', '121') == -1\n"
       ]
      }
     ],
     "prompt_number": 2
    }
   ],
   "metadata": {}
  }
 ]
}